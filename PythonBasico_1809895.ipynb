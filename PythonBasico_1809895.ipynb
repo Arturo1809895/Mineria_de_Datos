{
 "cells": [
  {
   "cell_type": "markdown",
   "metadata": {},
   "source": [
    "## Ejercicio 1:\n",
    "Realiza una variable con tu matricula y realiza una secuencia de imprimir con tu nombre y matrícula concatenados"
   ]
  },
  {
   "cell_type": "code",
   "execution_count": 1,
   "metadata": {},
   "outputs": [
    {
     "name": "stdout",
     "output_type": "stream",
     "text": [
      "Arturo Del Angel De La Cruz:  1809895\n"
     ]
    }
   ],
   "source": [
    "mat=1809895\n",
    "print(\"Arturo Del Angel De La Cruz: \", mat)"
   ]
  },
  {
   "cell_type": "markdown",
   "metadata": {},
   "source": [
    "## Ejercicio 2:\n",
    "Pidiendo el input del usuario pide dos números y crea una pequeña calculadora con los operadores básicos de suma, resta, multiplicación, división, y exponente."
   ]
  },
  {
   "cell_type": "code",
   "execution_count": 2,
   "metadata": {},
   "outputs": [
    {
     "name": "stdout",
     "output_type": "stream",
     "text": [
      "Ingresa un número: 5\n",
      "Ingresa un segundo número: 2\n",
      "Suma:  7\n",
      "Resta:  3\n",
      "Multiplicación:  10\n",
      "División:  2.5\n",
      "Exponente:  25\n"
     ]
    }
   ],
   "source": [
    "n1=int(input(\"Ingresa un número: \"))\n",
    "n2=int(input(\"Ingresa un segundo número: \"))\n",
    "print(\"Suma: \", n1+n2)\n",
    "print(\"Resta: \", n1-n2)\n",
    "print(\"Multiplicación: \", n1*n2)\n",
    "print(\"División: \", n1/n2)\n",
    "print(\"Exponente: \", n1**n2)"
   ]
  },
  {
   "cell_type": "markdown",
   "metadata": {},
   "source": [
    "## Ejercicio 3:\n",
    "Con loop while o for, realiza una lista de 10 numeros multiplos de 3, y después realiza una función de loop que sume todos los números dentro del arreglo."
   ]
  },
  {
   "cell_type": "code",
   "execution_count": 7,
   "metadata": {},
   "outputs": [
    {
     "name": "stdout",
     "output_type": "stream",
     "text": [
      "Número 1 :  3\n",
      "Número 2 :  6\n",
      "Número 3 :  9\n",
      "Número 4 :  12\n",
      "Número 5 :  15\n",
      "Número 6 :  18\n",
      "Número 7 :  21\n",
      "Número 8 :  24\n",
      "Número 9 :  27\n",
      "Número 10 :  30\n",
      "La suma de los elemenros de la lista es: 165\n"
     ]
    }
   ],
   "source": [
    "mult3=[]\n",
    "for i in range(1,11):\n",
    "    mult3.append(i*3)\n",
    "    print(\"Número\", i,\": \", i*3)\n",
    "\n",
    "def sumlist(lista):\n",
    "    sum=0\n",
    "    for i in range(len(lista)):\n",
    "        sum=sum+lista[i]\n",
    "    return sum\n",
    "\n",
    "print(\"La suma de los elemenros de la lista es:\",sumlist(mult3))"
   ]
  },
  {
   "cell_type": "markdown",
   "metadata": {},
   "source": [
    "## Ejercicio 4:\n",
    "    -Con una función de if else, revisar si un número es par o es impar.\n",
    "    -Con una función de if else, revisar si un número es primo o no."
   ]
  },
  {
   "cell_type": "code",
   "execution_count": 11,
   "metadata": {},
   "outputs": [
    {
     "name": "stdout",
     "output_type": "stream",
     "text": [
      "Introduce un número: 21\n",
      "El número  21  es impar\n"
     ]
    }
   ],
   "source": [
    "x=int(input(\"Introduce un número: \"))\n",
    "if x%2==0:\n",
    "    print(\"El número \", x, \" es par\")\n",
    "else:\n",
    "    print(\"El número \", x, \" es impar\")\n"
   ]
  },
  {
   "cell_type": "code",
   "execution_count": 18,
   "metadata": {},
   "outputs": [
    {
     "name": "stdout",
     "output_type": "stream",
     "text": [
      "Introduce un número: 25\n",
      "El número  25  no es primo\n"
     ]
    }
   ],
   "source": [
    "y=int(input(\"Introduce un número: \"))\n",
    "prim=0\n",
    "for i in range(2,y):\n",
    "    if y%i!=0:\n",
    "        continue\n",
    "    else:\n",
    "        prim=prim+1\n",
    "        break\n",
    "if prim>0:\n",
    "    print(\"El número \", y, \" no es primo\")\n",
    "else:\n",
    "    print(\"El número \", y, \" es primo\")\n",
    "\n",
    "    \n",
    "    "
   ]
  },
  {
   "cell_type": "markdown",
   "metadata": {},
   "source": [
    "## Ejercicio 5\n",
    "Utilizando diferentes clases en python, crea una calculadora con los operadores básicos de suma, resta, multiplicación, división, y exponente."
   ]
  },
  {
   "cell_type": "code",
   "execution_count": 19,
   "metadata": {},
   "outputs": [
    {
     "name": "stdout",
     "output_type": "stream",
     "text": [
      "Ingresa un número: 5\n",
      "Ingresa un segundo número: 2\n",
      "Suma:  7\n",
      "Resta:  3\n",
      "Multiplicación:  10\n",
      "División:  2.5\n",
      "Exponente:  25\n"
     ]
    }
   ],
   "source": [
    "def Suma(a,b):\n",
    "    c=a+b\n",
    "    return c\n",
    "def Resta(a,b):\n",
    "    c=a-b\n",
    "    return c\n",
    "def Multiplicación(a,b):\n",
    "    c=a*b\n",
    "    return c\n",
    "def División(a,b):\n",
    "    c=a/b\n",
    "    return c\n",
    "def Exponente(a,b):\n",
    "    c=a**b\n",
    "    return c\n",
    "w=int(input(\"Ingresa un número: \"))\n",
    "z=int(input(\"Ingresa un segundo número: \"))\n",
    "print(\"Suma: \", Suma(w,z))\n",
    "print(\"Resta: \", Resta(w,z))\n",
    "print(\"Multiplicación: \", Multiplicación(w,z))\n",
    "print(\"División: \", División(w,z))\n",
    "print(\"Exponente: \", Exponente(w,z))"
   ]
  },
  {
   "cell_type": "markdown",
   "metadata": {},
   "source": [
    "# Ejercicios con estructuras básicas de Python\n",
    "## Tuplas\n",
    "Crear una variable flotante, integer, boleana y compleja e imprimir el tipo de variable que es."
   ]
  },
  {
   "cell_type": "code",
   "execution_count": 10,
   "metadata": {},
   "outputs": [
    {
     "name": "stdout",
     "output_type": "stream",
     "text": [
      "La variable f = 5.4 es de tipo: <class 'float'>\n",
      "La variable i = 5 es de tipo: <class 'int'>\n",
      "La variable b = True es de tipo: <class 'bool'>\n",
      "La variable c = 4j es de tipo: <class 'complex'>\n"
     ]
    }
   ],
   "source": [
    "f = 5.4\n",
    "print(\"La variable f =\",f,\"es de tipo:\", type(f))\n",
    "i = 5\n",
    "print(\"La variable i =\",i,\"es de tipo:\", type(i))\n",
    "b = True\n",
    "print(\"La variable b =\",b,\"es de tipo:\", type(b))\n",
    "c= 4j\n",
    "print(\"La variable c =\",c,\"es de tipo:\", type(c))"
   ]
  },
  {
   "cell_type": "markdown",
   "metadata": {},
   "source": [
    "Crear una tupla con valores enteros imprimir el primer y ultimo valor."
   ]
  },
  {
   "cell_type": "code",
   "execution_count": 27,
   "metadata": {},
   "outputs": [
    {
     "name": "stdout",
     "output_type": "stream",
     "text": [
      "El primer número de la tupla es: 5\n",
      "El último número de la tupla es: 15\n"
     ]
    }
   ],
   "source": [
    "t1 = (5, 10, 15)\n",
    "print(\"El primer número de la tupla es:\",t1[0])\n",
    "print(\"El último número de la tupla es:\",t1[2])"
   ]
  },
  {
   "cell_type": "markdown",
   "metadata": {},
   "source": [
    "Añadir 3 valores de string a la tupla."
   ]
  },
  {
   "cell_type": "code",
   "execution_count": 37,
   "metadata": {},
   "outputs": [
    {
     "data": {
      "text/plain": [
       "(5, 10, 15, 'a', 'b', 'c')"
      ]
     },
     "execution_count": 37,
     "metadata": {},
     "output_type": "execute_result"
    }
   ],
   "source": [
    "t1 = t1.__add__(('a','b','c',))\n",
    "t1"
   ]
  },
  {
   "cell_type": "markdown",
   "metadata": {},
   "source": [
    "Verificar si una variable existe dentro de la tupla."
   ]
  },
  {
   "cell_type": "code",
   "execution_count": 38,
   "metadata": {},
   "outputs": [
    {
     "data": {
      "text/plain": [
       "True"
      ]
     },
     "execution_count": 38,
     "metadata": {},
     "output_type": "execute_result"
    }
   ],
   "source": [
    "10 in t1"
   ]
  },
  {
   "cell_type": "markdown",
   "metadata": {},
   "source": [
    "## Listas\n",
    "Crear una lista con 40 elementos aleatorios enteros."
   ]
  },
  {
   "cell_type": "code",
   "execution_count": 55,
   "metadata": {},
   "outputs": [
    {
     "name": "stdout",
     "output_type": "stream",
     "text": [
      "[19, 61, 40, 25, 21, 5, 43, 4, 31, 28, 2, 49, 26, 60, 11, 46, 28, 90, 57, 14, 52, 41, 95, 92, 88, 45, 89, 86, 53, 30, 26, 29, 49, 69, 50, 9, 17, 91, 6, 80]\n"
     ]
    }
   ],
   "source": [
    "import random\n",
    "def lista_aleat(minimo, maximo, longitud):\n",
    "    return[random.randint(minimo, maximo) for _ in range(longitud)]\n",
    "lista1=lista_aleat(0,100,40)\n",
    "print(lista1)\n"
   ]
  },
  {
   "cell_type": "markdown",
   "metadata": {},
   "source": [
    "Con una funcion (def) crear dos listas nuevas a partir de la lista creada por numeros aleatorios, en la cual en una esten los elementos pares, y en la otra los elementos impares."
   ]
  },
  {
   "cell_type": "code",
   "execution_count": 98,
   "metadata": {},
   "outputs": [
    {
     "name": "stdout",
     "output_type": "stream",
     "text": [
      "[40, 4, 28, 2, 26, 60, 46, 28, 90, 14, 52, 92, 88, 86, 30, 26, 50, 6, 80]\n",
      "[19, 61, 25, 21, 5, 43, 31, 49, 11, 57, 41, 95, 45, 89, 53, 29, 49, 69, 9, 17, 91]\n"
     ]
    }
   ],
   "source": [
    "listp=[]\n",
    "listimp=[]\n",
    "def listapi(lista,listp, listimp):\n",
    "    for i in range(0,40):\n",
    "        num = lista[i]\n",
    "        if num%2==0:\n",
    "            listp.append(num)\n",
    "        else:\n",
    "            listimp.append(num)\n",
    "    lp=listp\n",
    "    li=listimp\n",
    "\n",
    "listapi(lista1, listp, listimp)\n",
    "print(listp)\n",
    "print(listimp)"
   ]
  },
  {
   "cell_type": "markdown",
   "metadata": {},
   "source": [
    "Crear dos variables con la longitud de ambas listas nuevas e imprimir las variables."
   ]
  },
  {
   "cell_type": "code",
   "execution_count": 99,
   "metadata": {},
   "outputs": [
    {
     "name": "stdout",
     "output_type": "stream",
     "text": [
      "La longitud de la lista con números pares es de: 19\n",
      "La longitud de la lista con números impares es de: 21\n"
     ]
    }
   ],
   "source": [
    "longpar=len(listp)\n",
    "longimp=len(listimp)\n",
    "print(\"La longitud de la lista con números pares es de:\", longpar)\n",
    "print(\"La longitud de la lista con números impares es de:\", longimp)"
   ]
  },
  {
   "cell_type": "markdown",
   "metadata": {},
   "source": [
    "Ordenar los elementos de la lista par de mayor a menor, y los de la lista impar de menor a mayor."
   ]
  },
  {
   "cell_type": "code",
   "execution_count": 102,
   "metadata": {},
   "outputs": [
    {
     "name": "stdout",
     "output_type": "stream",
     "text": [
      "[92, 90, 88, 86, 80, 60, 52, 50, 46, 40, 30, 28, 28, 26, 26, 14, 6, 4, 2]\n",
      "[5, 9, 11, 17, 19, 21, 25, 29, 31, 41, 43, 45, 49, 49, 53, 57, 61, 69, 89, 91, 95]\n"
     ]
    }
   ],
   "source": [
    "listp.sort(reverse=True)\n",
    "print(listp)\n",
    "listimp.sort()\n",
    "print(listimp)"
   ]
  },
  {
   "cell_type": "markdown",
   "metadata": {},
   "source": [
    "Utilizar al menos cuatro de las funciones de listas en python en la lista original de 40 elementos."
   ]
  },
  {
   "cell_type": "code",
   "execution_count": 109,
   "metadata": {},
   "outputs": [
    {
     "name": "stdout",
     "output_type": "stream",
     "text": [
      "[95, 92, 91, 90, 89, 88, 86, 69, 61, 60, 57, 53, 52, 50, 49, 49, 46, 45, 43, 41, 40, 31, 30, 29, 28, 28, 26, 26, 25, 21, 17, 14, 11, 9, 6, 5, 4, 2]\n",
      "[95, 92, 91, 90, 89, 88, 86, 69, 61, 60, 57, 53, 52, 50, 49, 49, 46, 45, 43, 41, 40, 31, 30, 29, 28, 28, 26, 26, 25, 21, 17, 14, 11, 9, 6, 5, 4]\n",
      "[4, 5, 6, 9, 11, 14, 17, 21, 25, 26, 26, 28, 28, 29, 30, 31, 40, 41, 43, 45, 46, 49, 49, 50, 52, 53, 57, 60, 61, 69, 86, 88, 89, 90, 91, 92, 95]\n",
      "[4, 5, 6, 9, 11, 14, 17, 21, 25, 26, 26, 28, 28, 29, 30, 31, 40, 41, 43, 45, 46, 49, 49, 50, 52, 53, 57, 60, 61, 69, 86, 88, 89, 90, 91, 92, 95, 25, 61, 0]\n"
     ]
    }
   ],
   "source": [
    "lista1.reverse()\n",
    "print(lista1)\n",
    "lista1.pop()\n",
    "print(lista1)\n",
    "lista1.sort()\n",
    "print(lista1)\n",
    "lista1.extend([25,61,0])\n",
    "print(lista1)"
   ]
  },
  {
   "cell_type": "markdown",
   "metadata": {},
   "source": [
    "## Diccionarios\n",
    "Crear un diccionario de 6 personas que conozcas con su primer nombre y su edad."
   ]
  },
  {
   "cell_type": "code",
   "execution_count": 110,
   "metadata": {},
   "outputs": [
    {
     "data": {
      "text/plain": [
       "{'Arturo': 20, 'Jesús': 17, 'María': 47, 'Daniela': 19, 'Nohemi': 21}"
      ]
     },
     "execution_count": 110,
     "metadata": {},
     "output_type": "execute_result"
    }
   ],
   "source": [
    "dict1={'Arturo': 20, 'Jesús': 17, 'María': 47, 'Daniela': 19, 'Nohemi': 21}\n",
    "dict1"
   ]
  },
  {
   "cell_type": "markdown",
   "metadata": {},
   "source": [
    "Crear una lista con los valores de la edad y reacomodar la lista de menor a mayor valor."
   ]
  },
  {
   "cell_type": "code",
   "execution_count": 112,
   "metadata": {},
   "outputs": [
    {
     "data": {
      "text/plain": [
       "[17, 19, 20, 21, 47]"
      ]
     },
     "execution_count": 112,
     "metadata": {},
     "output_type": "execute_result"
    }
   ],
   "source": [
    "sorted(dict1.values())"
   ]
  },
  {
   "cell_type": "markdown",
   "metadata": {},
   "source": [
    "Usando el diccionario y un loop, imprimir solo los nombres."
   ]
  },
  {
   "cell_type": "code",
   "execution_count": 119,
   "metadata": {},
   "outputs": [
    {
     "name": "stdout",
     "output_type": "stream",
     "text": [
      "Arturo\n",
      "Jesús\n",
      "María\n",
      "Daniela\n",
      "Nohemi\n"
     ]
    }
   ],
   "source": [
    "for i in dict1:\n",
    "    print(i)"
   ]
  },
  {
   "cell_type": "markdown",
   "metadata": {},
   "source": [
    "Añadir dos personas nuevas a tu diccionario, incluyendo edad"
   ]
  },
  {
   "cell_type": "code",
   "execution_count": 122,
   "metadata": {},
   "outputs": [
    {
     "name": "stdout",
     "output_type": "stream",
     "text": [
      "{'Arturo': 20, 'Jesús': 17, 'María': 47, 'Daniela': 19, 'Nohemi': 21, 'Francisco': 18, 'Iván': 26}\n"
     ]
    }
   ],
   "source": [
    "dict1['Francisco']=18\n",
    "dict1['Iván']=26\n",
    "print(dict1)"
   ]
  },
  {
   "cell_type": "markdown",
   "metadata": {},
   "source": [
    "## Sets\n",
    "Crea un set con 100 numeros aleatorios enteros del 1 al 25."
   ]
  },
  {
   "cell_type": "code",
   "execution_count": 151,
   "metadata": {},
   "outputs": [
    {
     "name": "stdout",
     "output_type": "stream",
     "text": [
      "{1, 2, 3, 4, 5, 6, 7, 8, 9, 10, 11, 12, 13, 14, 15, 16, 17, 18, 19, 20, 21, 22, 23, 24, 25}\n"
     ]
    }
   ],
   "source": [
    "import random\n",
    "set1={random.randint(1,25)}\n",
    "for i in range(0,99):\n",
    "    set1.add(random.randint(1,25))\n",
    "\n",
    "print(set1)"
   ]
  },
  {
   "cell_type": "markdown",
   "metadata": {},
   "source": [
    "Comprueba la longitud de tu set."
   ]
  },
  {
   "cell_type": "code",
   "execution_count": 152,
   "metadata": {},
   "outputs": [
    {
     "data": {
      "text/plain": [
       "25"
      ]
     },
     "execution_count": 152,
     "metadata": {},
     "output_type": "execute_result"
    }
   ],
   "source": [
    "len(set1)"
   ]
  },
  {
   "cell_type": "markdown",
   "metadata": {},
   "source": [
    "Crea una lista de 5 numeros aleatorios del 1 al 10 y comprueba si cada valor aparece en el set inicial."
   ]
  },
  {
   "cell_type": "code",
   "execution_count": 163,
   "metadata": {},
   "outputs": [
    {
     "name": "stdout",
     "output_type": "stream",
     "text": [
      "[8, 5, 3, 6, 4]\n",
      "True\n",
      "True\n",
      "True\n",
      "True\n",
      "True\n"
     ]
    }
   ],
   "source": [
    "A=[1, 2, 3, 4, 5, 6, 7, 8, 9, 10]\n",
    "num5=(r.sample(A, 5))\n",
    "print(num5)\n",
    "for i in range (5):\n",
    "    print(num5[i] in set1)"
   ]
  }
 ],
 "metadata": {
  "kernelspec": {
   "display_name": "Python 3",
   "language": "python",
   "name": "python3"
  },
  "language_info": {
   "codemirror_mode": {
    "name": "ipython",
    "version": 3
   },
   "file_extension": ".py",
   "mimetype": "text/x-python",
   "name": "python",
   "nbconvert_exporter": "python",
   "pygments_lexer": "ipython3",
   "version": "3.8.3"
  }
 },
 "nbformat": 4,
 "nbformat_minor": 4
}
